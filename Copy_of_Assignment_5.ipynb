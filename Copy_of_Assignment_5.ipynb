{
  "nbformat": 4,
  "nbformat_minor": 0,
  "metadata": {
    "colab": {
      "name": "Copy of Assignment_5.ipynb",
      "provenance": [],
      "include_colab_link": true
    },
    "kernelspec": {
      "name": "python3",
      "display_name": "Python 3"
    },
    "language_info": {
      "name": "python"
    }
  },
  "cells": [
    {
      "cell_type": "markdown",
      "metadata": {
        "id": "view-in-github",
        "colab_type": "text"
      },
      "source": [
        "<a href=\"https://colab.research.google.com/github/habiba-1215/Machine-Learning-Training/blob/main/Copy_of_Assignment_5.ipynb\" target=\"_parent\"><img src=\"https://colab.research.google.com/assets/colab-badge.svg\" alt=\"Open In Colab\"/></a>"
      ]
    },
    {
      "cell_type": "markdown",
      "metadata": {
        "id": "vmlIHbPaiC_0"
      },
      "source": [
        "## **bold text**### Numpy Assignment"
      ]
    },
    {
      "cell_type": "markdown",
      "metadata": {
        "id": "R2-PpfJUtJZ2"
      },
      "source": [
        "1.  Write a NumPy program to create an array of 10 zeros,10 ones, 10 fives.<br>\n",
        "\n",
        "\n",
        "SOL:  https://www.w3resource.com/python-exercises/numpy/basic/numpy-basic-exercise-13.php\n"
      ]
    },
    {
      "cell_type": "code",
      "metadata": {
        "id": "vXPoGG1Vht0J",
        "colab": {
          "base_uri": "https://localhost:8080/"
        },
        "outputId": "7d7ff9be-f053-49c3-c60d-9077ef42986c"
      },
      "source": [
        "import numpy as np\n",
        "np.zeros(10)"
      ],
      "execution_count": null,
      "outputs": [
        {
          "output_type": "execute_result",
          "data": {
            "text/plain": [
              "array([0., 0., 0., 0., 0., 0., 0., 0., 0., 0.])"
            ]
          },
          "metadata": {
            "tags": []
          },
          "execution_count": 1
        }
      ]
    },
    {
      "cell_type": "code",
      "metadata": {
        "colab": {
          "base_uri": "https://localhost:8080/"
        },
        "id": "fsxf_y3E1usw",
        "outputId": "4622ae44-b4f9-4613-a0c0-42c3336c8e6a"
      },
      "source": [
        "import numpy as np\n",
        "np.ones(10)"
      ],
      "execution_count": null,
      "outputs": [
        {
          "output_type": "execute_result",
          "data": {
            "text/plain": [
              "array([1., 1., 1., 1., 1., 1., 1., 1., 1., 1.])"
            ]
          },
          "metadata": {
            "tags": []
          },
          "execution_count": 2
        }
      ]
    },
    {
      "cell_type": "code",
      "metadata": {
        "colab": {
          "base_uri": "https://localhost:8080/"
        },
        "id": "mURD30Tl2nKq",
        "outputId": "f6a3946a-b825-4b55-efbf-749d724d36b7"
      },
      "source": [
        "import numpy as np\n",
        "np.full(10,5)\n",
        "#another method"
      ],
      "execution_count": null,
      "outputs": [
        {
          "output_type": "execute_result",
          "data": {
            "text/plain": [
              "array([5, 5, 5, 5, 5, 5, 5, 5, 5, 5])"
            ]
          },
          "metadata": {
            "tags": []
          },
          "execution_count": 3
        }
      ]
    },
    {
      "cell_type": "markdown",
      "metadata": {
        "id": "dQqdKgHqtqHu"
      },
      "source": [
        "2.  Write a NumPy program to create a 3x4 matrix filled with values from 10 to 21. <br>\n",
        "SOL: https://www.w3resource.com/python-exercises/numpy/basic/numpy-basic-exercise-25.php"
      ]
    },
    {
      "cell_type": "code",
      "metadata": {
        "id": "2PPwF0Hzt03m",
        "colab": {
          "base_uri": "https://localhost:8080/"
        },
        "outputId": "41ca155e-79f3-42ac-8cb1-b86b8cd24e12"
      },
      "source": [
        "import numpy as np\n",
        "np.arange(10,22).reshape((3, 4))\n"
      ],
      "execution_count": null,
      "outputs": [
        {
          "output_type": "execute_result",
          "data": {
            "text/plain": [
              "array([[10, 11, 12, 13],\n",
              "       [14, 15, 16, 17],\n",
              "       [18, 19, 20, 21]])"
            ]
          },
          "metadata": {
            "tags": []
          },
          "execution_count": 17
        }
      ]
    },
    {
      "cell_type": "markdown",
      "metadata": {
        "id": "AyPf52e3t1ZJ"
      },
      "source": [
        "3.  Write a NumPy program to check whether two arrays are equal (element wise) or not.<br>\n",
        "\n",
        "> Indented block\n",
        "\n",
        "\n",
        "\n",
        "SOL: https://www.w3resource.com/python-exercises/numpy/basic/numpy-basic-exercise-44.php"
      ]
    },
    {
      "cell_type": "code",
      "metadata": {
        "id": "UnG4dTzht-7b",
        "colab": {
          "base_uri": "https://localhost:8080/"
        },
        "outputId": "9bc1512d-4a95-4385-d65e-fb4973d837dc"
      },
      "source": [
        "import numpy as np\n",
        "array1 = ([1,2,3,4])\n",
        "array2 = ([1,24,7,7])\n",
        "c = np.in1d(array1,array2)\n",
        "print(c)\n"
      ],
      "execution_count": null,
      "outputs": [
        {
          "output_type": "stream",
          "text": [
            "[ True False False False]\n"
          ],
          "name": "stdout"
        }
      ]
    },
    {
      "cell_type": "markdown",
      "metadata": {
        "id": "L3rb3r1kuCvf"
      },
      "source": [
        "*4*.  Write a NumPy program to swap rows and columns of a given array in reverse order. <br>\n",
        "\n",
        "SOL: https://www.w3resource.com/python-exercises/numpy/basic/numpy-basic-exercise-58.php"
      ]
    },
    {
      "cell_type": "code",
      "metadata": {
        "id": "FFcrvrRhuMek",
        "colab": {
          "base_uri": "https://localhost:8080/"
        },
        "outputId": "da84aa48-1f66-4204-a979-92ce9eddf85b"
      },
      "source": [
        "import numpy as np\n",
        "nums = np.array([[[1, 2, 3, 4],\n",
        "               [0, 1, 3, 4],\n",
        "               [90, 91, 93, 94],\n",
        "               [5, 0, 3, 2]]])\n",
        "print(\"Original array:\")\n",
        "print(nums)\n",
        "print(\"\\nSwap rows and columns of the said array in reverse order:\")\n",
        "new_nums = print(nums[::-1, ::-1])\n",
        "print(new_nums)\n",
        "#can you find another method?"
      ],
      "execution_count": null,
      "outputs": [
        {
          "output_type": "stream",
          "text": [
            "Original array:\n",
            "[[[ 1  2  3  4]\n",
            "  [ 0  1  3  4]\n",
            "  [90 91 93 94]\n",
            "  [ 5  0  3  2]]]\n",
            "\n",
            "Swap rows and columns of the said array in reverse order:\n",
            "[[[ 5  0  3  2]\n",
            "  [90 91 93 94]\n",
            "  [ 0  1  3  4]\n",
            "  [ 1  2  3  4]]]\n",
            "None\n"
          ],
          "name": "stdout"
        }
      ]
    },
    {
      "cell_type": "markdown",
      "metadata": {
        "id": "rK3sUns9uM6Y"
      },
      "source": [
        "5. Write a NumPy program to create a null vector of size 10 and update sixth value to 11.<br>\n",
        "[ 0. 0. 0. 0. 0. 0. 0. 0. 0. 0.]<br>\n",
        "Update sixth value to 11<br>\n",
        "[ 0. 0. 0. 0. 0. 0. 11. 0. 0. 0.]<br>\n",
        "\n",
        "SOL: https://www.w3resource.com/python-exercises/numpy/python-numpy-exercise-4.php"
      ]
    },
    {
      "cell_type": "code",
      "metadata": {
        "id": "q9waGEm4uZ5t",
        "colab": {
          "base_uri": "https://localhost:8080/"
        },
        "outputId": "3d333a39-eb03-4501-cb8a-ff95b3316f64"
      },
      "source": [
        "import numpy as np\n",
        "array1 = np.zeros(10)\n",
        "print(\"Update sixth value to 11\")\n",
        "array1[6] = 11\n",
        "print(array1)"
      ],
      "execution_count": null,
      "outputs": [
        {
          "output_type": "stream",
          "text": [
            "Update sixth value to 11\n",
            "[ 0.  0.  0.  0.  0.  0. 11.  0.  0.  0.]\n"
          ],
          "name": "stdout"
        }
      ]
    },
    {
      "cell_type": "markdown",
      "metadata": {
        "id": "zgUhxxyauaYo"
      },
      "source": [
        "6. Write a NumPy program to convert a list and tuple into arrays. <br>\n",
        "List to array:<br>\n",
        "[1 2 3 4 5 6 7 8]<br>\n",
        "Tuple to array:<br>\n",
        "[[8 4 6]<br>\n",
        "[1 2 3]]<br>\n",
        "\n",
        "SOL: https://www.w3resource.com/python-exercises/numpy/python-numpy-exercise-11.php"
      ]
    },
    {
      "cell_type": "code",
      "metadata": {
        "id": "_MhuzDTMuq49",
        "colab": {
          "base_uri": "https://localhost:8080/"
        },
        "outputId": "63a7c47e-8db8-4f73-c040-bfcddf52e5a2"
      },
      "source": [
        "import numpy as np\n",
        "list1 = [1, 2, 3, 4]\n",
        "print(\"List to array: \")\n",
        "print(np.asarray(list1))\n",
        "tuple1 = ([8, 4, 6], [1, 2, 3])\n",
        "print(\"Tuple to array: \")\n",
        "print(np.asarray(tuple1))"
      ],
      "execution_count": null,
      "outputs": [
        {
          "output_type": "stream",
          "text": [
            "List to array: \n",
            "[1 2 3 4]\n",
            "Tuple to array: \n",
            "[[8 4 6]\n",
            " [1 2 3]]\n"
          ],
          "name": "stdout"
        }
      ]
    },
    {
      "cell_type": "markdown",
      "metadata": {
        "id": "d4r8Pd7AurdY"
      },
      "source": [
        "7.  Write a NumPy program to change the dimension of an array. <br>\n",
        "Expected Output:<br>\n",
        "6 rows and 0 columns<br>\n",
        "(6,)<br>\n",
        "(3, 3) -> 3 rows and 3 columns<br>\n",
        "[[1 2 3]<br>\n",
        "[4 5 6]<br>\n",
        "[7 8 9]]<br>\n",
        "Change array shape to (3, 3) -> 3 rows and 3 columns<br>\n",
        "[[1 2 3]<br>\n",
        "[4 5 6]<br>\n",
        "[7 8 9]]<br>\n",
        "\n",
        "SOL: https://www.w3resource.com/python-exercises/numpy/python-numpy-exercise-35.php"
      ]
    },
    {
      "cell_type": "code",
      "metadata": {
        "id": "mP2STm_3vbxS",
        "colab": {
          "base_uri": "https://localhost:8080/"
        },
        "outputId": "168987bf-88f4-4569-d49c-732cb8d36fb9"
      },
      "source": [
        "import numpy as np\n",
        "array1 = np.array([1, 2, 3, 4, 5, 6])\n",
        "print(\"6 rows and 0 columns\")\n",
        "print(array1.shape)\n",
        "\n",
        "array2 = np.array([[1, 2, 3],[4, 5, 6],[7,8,9]])\n",
        "print(\"(3, 3) -> 3 rows and 3 columns \")\n",
        "print(array2)\n",
        "\n",
        "array3 = np.array([1,2,3,4,5,6,7,8,9])\n",
        "print(\"Change array shape to (3, 3) -> 3 rows and 3 columns \")\n",
        "array3.shape = (3, 3)\n",
        "print(array3)"
      ],
      "execution_count": null,
      "outputs": [
        {
          "output_type": "stream",
          "text": [
            "6 rows and 0 columns\n",
            "(6,)\n",
            "(3, 3) -> 3 rows and 3 columns \n",
            "[[1 2 3]\n",
            " [4 5 6]\n",
            " [7 8 9]]\n",
            "Change array shape to (3, 3) -> 3 rows and 3 columns \n",
            "[[1 2 3]\n",
            " [4 5 6]\n",
            " [7 8 9]]\n"
          ],
          "name": "stdout"
        }
      ]
    },
    {
      "cell_type": "markdown",
      "metadata": {
        "id": "B_ejqDDTvcNu"
      },
      "source": [
        "8. Write a NumPy program to compute the multiplication of two given matrices.<br>\n",
        "SOL: https://www.w3resource.com/python-exercises/numpy/linear-algebra/numpy-linear-algebra-exercise-1.php"
      ]
    },
    {
      "cell_type": "code",
      "metadata": {
        "id": "3Ln__JUkvvDY",
        "colab": {
          "base_uri": "https://localhost:8080/"
        },
        "outputId": "99857758-d13e-483d-c2ec-fce61bc5b36c"
      },
      "source": [
        "import numpy as np\n",
        "array1 = np.array([1, 2, 3, 4, 5, 6])\n",
        "array2 = np.array([1, 2, 3, 4, 5, 6])\n",
        "mul = array1  * array2\n",
        "print(mul)"
      ],
      "execution_count": null,
      "outputs": [
        {
          "output_type": "stream",
          "text": [
            "[ 1  4  9 16 25 36]\n"
          ],
          "name": "stdout"
        }
      ]
    },
    {
      "cell_type": "markdown",
      "metadata": {
        "id": "RSiImYM6vvvp"
      },
      "source": [
        "9. Write a NumPy program to create a 3x3x3 array with random values. <br>\n",
        "Expected Output: <br>\n",
        "[[[ 0.48941799 0.58722213 0.43453926] <br>\n",
        "[ 0.94497547 0.81081709 0.1510409 ] <br>\n",
        "[ 0.66657127 0.29494755 0.48047144]] <br>\n",
        "[[ 0.02287253 0.95232614 0.32264936] <br>\n",
        "[ 0.67009741 0.25458304 0.16290913] <br>\n",
        "[ 0.15520198 0.86826529 0.9679322 ]]  <br>\n",
        "[[ 0.13503103 0.02042211 0.24683897]  <br>\n",
        "[ 0.97852158 0.22374748 0.10798856]  <br>\n",
        "[ 0.62032646 0.5893892 0.16958144]]] <br>\n",
        "\n",
        "SOL: https://www.w3resource.com/python-exercises/numpy/python-numpy-random-exercise-3.php"
      ]
    },
    {
      "cell_type": "code",
      "metadata": {
        "id": "eUVGJozewBmu",
        "colab": {
          "base_uri": "https://localhost:8080/"
        },
        "outputId": "fe7bdcc6-1681-4f34-92cf-99425e9ef272"
      },
      "source": [
        "import numpy as np\n",
        "import random\n",
        "array1 = np.random.rand((3*3*3))\n",
        "print(array1)"
      ],
      "execution_count": 1,
      "outputs": [
        {
          "output_type": "stream",
          "text": [
            "[0.9770953  0.18056392 0.83008767 0.68421257 0.41220344 0.50052127\n",
            " 0.13606804 0.46315291 0.75469251 0.25291187 0.57395112 0.47093357\n",
            " 0.81106273 0.4480144  0.15111598 0.26456751 0.8349391  0.99868149\n",
            " 0.3777134  0.47683133 0.70914666 0.05957273 0.78632593 0.07572892\n",
            " 0.00221417 0.29807901 0.20132366]\n"
          ],
          "name": "stdout"
        }
      ]
    },
    {
      "cell_type": "markdown",
      "metadata": {
        "id": "qdS-JHdowCDu"
      },
      "source": [
        "10. Write a NumPy program to sort the student id with increasing height of the students from given students id and height. Print the integer indices that describes the sort order by multiple columns and the sorted data. <br>\n",
        "Expected Output: <br>\n",
        "Sorted indices: <br>\n",
        "[4 0 5 3 6 1 2] <br>\n",
        "Sorted data:  <br>\n",
        "1682 38.0  <br>\n",
        "1023 40.0  <br>\n",
        "5241 40.0  <br>\n",
        "1671 41.0  <br>\n",
        "4532 42.0  <br>\n",
        "5202 42.0  <br>\n",
        "6230 45.0  <br>\n",
        "\n",
        "SOL: https://www.w3resource.com/python-exercises/numpy/python-numpy-sorting-and-searching-exercise-4.php"
      ]
    },
    {
      "cell_type": "code",
      "metadata": {
        "id": "FKbvbEpPwfJb",
        "colab": {
          "base_uri": "https://localhost:8080/"
        },
        "outputId": "7c86fa94-15ce-4b36-a204-19291c4ba929"
      },
      "source": [
        "import numpy as np\n",
        "id = np.array([1023, 5202, 6230, 1671, 1682, 5241, 4532])\n",
        "height = np.array([40, 42, 45, 41, 38, 40, 42])\n",
        "indices = np.lexsort((id, height))\n",
        "print(\"indices: \")\n",
        "print(indices)\n",
        "print(\" data: \")\n",
        "for n in indices:\n",
        "  print(id[n], height[n])"
      ],
      "execution_count": 4,
      "outputs": [
        {
          "output_type": "stream",
          "text": [
            "indices: \n",
            "[4 0 5 3 6 1 2]\n",
            " data: \n",
            "1682 38\n",
            "1023 40\n",
            "5241 40\n",
            "1671 41\n",
            "4532 42\n",
            "5202 42\n",
            "6230 45\n"
          ],
          "name": "stdout"
        }
      ]
    }
  ]
}