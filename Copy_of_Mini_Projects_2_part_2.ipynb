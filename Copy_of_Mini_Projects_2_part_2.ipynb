{
  "nbformat": 4,
  "nbformat_minor": 0,
  "metadata": {
    "colab": {
      "name": "Copy of Mini_Projects_2/ part 2.ipynb",
      "provenance": [],
      "collapsed_sections": [],
      "include_colab_link": true
    },
    "kernelspec": {
      "display_name": "Python 3",
      "name": "python3"
    }
  },
  "cells": [
    {
      "cell_type": "markdown",
      "metadata": {
        "id": "view-in-github",
        "colab_type": "text"
      },
      "source": [
        "<a href=\"https://colab.research.google.com/github/habiba-1215/Machine-Learning-Training/blob/main/Copy_of_Mini_Projects_2_part_2.ipynb\" target=\"_parent\"><img src=\"https://colab.research.google.com/assets/colab-badge.svg\" alt=\"Open In Colab\"/></a>"
      ]
    },
    {
      "cell_type": "markdown",
      "metadata": {
        "id": "c2sSEq3uSurn"
      },
      "source": [
        "# Files and Exceptions"
      ]
    },
    {
      "cell_type": "code",
      "metadata": {
        "colab": {
          "base_uri": "https://localhost:8080/"
        },
        "id": "VppOUgyU_Auv",
        "outputId": "137829eb-a0e5-4aae-f65c-d5410e6148b3"
      },
      "source": [
        "from google.colab import drive\n",
        "drive.mount('/content/drive')"
      ],
      "execution_count": null,
      "outputs": [
        {
          "output_type": "stream",
          "text": [
            "Drive already mounted at /content/drive; to attempt to forcibly remount, call drive.mount(\"/content/drive\", force_remount=True).\n"
          ],
          "name": "stdout"
        }
      ]
    },
    {
      "cell_type": "markdown",
      "metadata": {
        "id": "qw2XyRs-TWIF"
      },
      "source": [
        "**8. Sum of Numbers** <br>\n",
        "Assume that a file containing a series of integers is named numbers.txt and exists on the Drive. Write a program that reads all of the numbers stored in the file and calculates their total.\n",
        "\n",
        "Find file here: <br>\n",
        "https://drive.google.com/file/d/1GaOURA7jp0NLvfaOfl4cCClKK_pv3q0r/view?usp=sharing"
      ]
    },
    {
      "cell_type": "code",
      "metadata": {
        "colab": {
          "base_uri": "https://localhost:8080/"
        },
        "id": "92EStR9KSu8N",
        "outputId": "d5a2555d-ea84-476e-c340-d0966ac8ce1f"
      },
      "source": [
        "\n",
        "def main():\n",
        "  numbers = open('/content/drive/MyDrive/numbers.txt', 'r')\n",
        "  total = 0\n",
        "  for line in numbers:\n",
        "    sum1 = int(line)\n",
        "    total += sum1\n",
        "    print(line)\n",
        "  \n",
        "  numbers.close()\n",
        "  print(line)\n",
        "  print('The total no. is', total)\n",
        "  \n",
        "main()"
      ],
      "execution_count": 20,
      "outputs": [
        {
          "output_type": "stream",
          "text": [
            "86850343\n",
            "\n",
            "88065952\n",
            "\n",
            "89381968\n",
            "\n",
            "89536251\n",
            "\n",
            "89714939\n",
            "\n",
            "89826424\n",
            "\n",
            "90124775\n",
            "\n",
            "90672109\n",
            "\n",
            "91408453\n",
            "\n",
            "92438737\n",
            "\n",
            "93361277\n",
            "\n",
            "93890243\n",
            "\n",
            "94372638\n",
            "\n",
            "94759578\n",
            "\n",
            "95079649\n",
            "\n",
            "95439651\n",
            "\n",
            "95611217\n",
            "\n",
            "95980818\n",
            "\n",
            "96336673\n",
            "\n",
            "96581524\n",
            "\n",
            "97041824\n",
            "\n",
            "97379048\n",
            "\n",
            "97672500\n",
            "\n",
            "98066518\n",
            "\n",
            "98479598\n",
            "\n",
            "98934553\n",
            "\n",
            "99246321\n",
            "\n",
            "99431136\n",
            "\n",
            "99835823\n",
            "\n",
            "100049946\n",
            "\n",
            "100234498\n",
            "\n",
            "100568960\n",
            "\n",
            "100806870\n",
            "\n",
            "101097750\n",
            "\n",
            "101820859\n",
            "\n",
            "102455417\n",
            "\n",
            "103013163\n",
            "\n",
            "103523365\n",
            "\n",
            "104177442\n",
            "\n",
            "104757015\n",
            "\n",
            "105145703\n",
            "\n",
            "105694237\n",
            "\n",
            "106140898\n",
            "\n",
            "107246430\n",
            "\n",
            "109272544\n",
            "\n",
            "111539027\n",
            "\n",
            "112522852\n",
            "\n",
            "113783213\n",
            "\n",
            "114620610\n",
            "\n",
            "116036567\n",
            "\n",
            "117421727\n",
            "\n",
            "119134533\n",
            "\n",
            "120378586\n",
            "\n",
            "121554027\n",
            "\n",
            "121817833\n",
            "\n",
            "122730767\n",
            "\n",
            "123673909\n",
            "\n",
            "124747226\n",
            "\n",
            "124747226\n",
            "\n",
            "The total no. is 5931486514\n"
          ],
          "name": "stdout"
        }
      ]
    },
    {
      "cell_type": "code",
      "metadata": {
        "id": "B7GImG_lSu-u"
      },
      "source": [
        ""
      ],
      "execution_count": null,
      "outputs": []
    },
    {
      "cell_type": "markdown",
      "metadata": {
        "id": "gW0mWcdDVgK4"
      },
      "source": [
        "### **9. Average of Numbers** <br>\n",
        "Assume that a file containing a series of integers is named numbers.txt and exists on the Drive. Write a program that calculates the average of all the numbers stored in\n",
        "the file"
      ]
    },
    {
      "cell_type": "code",
      "metadata": {
        "id": "3-DZx-vnSvCe",
        "colab": {
          "base_uri": "https://localhost:8080/"
        },
        "outputId": "0c93b356-1c1c-41d3-d51c-7503e9459e02"
      },
      "source": [
        "def main():\n",
        "  numbers = open('/content/drive/MyDrive/numbers.txt', 'r')\n",
        "  total = 0\n",
        "  no_of_lines =0\n",
        "  for line in numbers:\n",
        "    sum1 = int(line)\n",
        "    total += sum1\n",
        "    no_of_lines +=1\n",
        "  numbers.close()\n",
        "  print('The avarage is', total / no_of_lines)\n",
        "\n",
        "main()"
      ],
      "execution_count": 29,
      "outputs": [
        {
          "output_type": "stream",
          "text": [
            "The avarage is 102267008.86206897\n"
          ],
          "name": "stdout"
        }
      ]
    },
    {
      "cell_type": "markdown",
      "metadata": {
        "id": "vjchCYETVwPx"
      },
      "source": [
        "# **10. Random Number File Writer**<br> **bold text**\n",
        "Write a program that writes a series of random numbers to a file. Each random number should be in the range of 1 \n",
        "through 500. The application should let the user specify how\n",
        "many random numbers the file will hold.\n"
      ]
    },
    {
      "cell_type": "code",
      "metadata": {
        "id": "DCyba_BZVxLF",
        "colab": {
          "base_uri": "https://localhost:8080/"
        },
        "outputId": "4f0d9110-cc6a-4ed9-a452-8cf9ac1175d9"
      },
      "source": [
        "import random\n",
        "file1 = open(\"Random.txt\", \"w\" )\n",
        "\n",
        "for i in range(int(input('How many random numbers?: '))):\n",
        "    line = str(random.randint(1,500))\n",
        "    file1.write(line)\n",
        "    print(line)\n",
        "\n",
        "file1.close()"
      ],
      "execution_count": 46,
      "outputs": [
        {
          "output_type": "stream",
          "text": [
            "How many random numbers?: 4\n",
            "173\n",
            "205\n",
            "399\n",
            "88\n"
          ],
          "name": "stdout"
        }
      ]
    },
    {
      "cell_type": "code",
      "metadata": {
        "id": "uZ7CQJM0VxN5"
      },
      "source": [
        ""
      ],
      "execution_count": null,
      "outputs": []
    },
    {
      "cell_type": "markdown",
      "metadata": {
        "id": "p75ZKqbXWMdY"
      },
      "source": [
        "**11.  Exception Handing** <br>\n",
        "Modify the program that you wrote for Exercise 9 so it handles the following exceptions: <br>\n",
        "* It should handle any IOError exceptions that are raised when the file is opened and data\n",
        "is read from it. <br>\n",
        "* It should handle any ValueError exceptions that are raised when the items that are read from the file are converted to a number."
      ]
    },
    {
      "cell_type": "code",
      "metadata": {
        "id": "22SOHQbrVxRE",
        "colab": {
          "base_uri": "https://localhost:8080/"
        },
        "outputId": "6a23dff6-eb01-476d-d549-b61c75b9a9ce"
      },
      "source": [
        "def main():\n",
        "  # Initialize an accumulator.\n",
        "  total = 0.0\n",
        "\n",
        "try:\n",
        " def main():\n",
        "  numbers = open('/content/drive/MyDrive/numbers.txt', 'r')\n",
        "  total = 0\n",
        "  no_of_lines =0\n",
        "  for line in numbers:\n",
        "    sum1 = int(line)\n",
        "    total += sum1\n",
        "    no_of_lines +=1\n",
        "  numbers.close()\n",
        "  print('The avarage is', total / no_of_lines)\n",
        "\n",
        "\n",
        "\n",
        "except IOError:\n",
        "    print('An error occured trying to read the file.')\n",
        "\n",
        "except ValueError:\n",
        "    print('Non-numeric data found in the file.')\n",
        "\n",
        "except:\n",
        "    print('An error occured.')\n",
        "\n",
        "# Call the main function.\n",
        "main()"
      ],
      "execution_count": 50,
      "outputs": [
        {
          "output_type": "stream",
          "text": [
            "The avarage is 102267008.86206897\n"
          ],
          "name": "stdout"
        }
      ]
    },
    {
      "cell_type": "code",
      "metadata": {
        "id": "3p0MENR_WrBV"
      },
      "source": [
        ""
      ],
      "execution_count": null,
      "outputs": []
    }
  ]
}