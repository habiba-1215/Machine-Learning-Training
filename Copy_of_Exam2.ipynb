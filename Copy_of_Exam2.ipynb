{
  "nbformat": 4,
  "nbformat_minor": 0,
  "metadata": {
    "colab": {
      "name": "Copy of Exam2.ipynb",
      "provenance": [],
      "collapsed_sections": [],
      "include_colab_link": true
    },
    "kernelspec": {
      "name": "python3",
      "display_name": "Python 3"
    },
    "language_info": {
      "name": "python"
    }
  },
  "cells": [
    {
      "cell_type": "markdown",
      "metadata": {
        "id": "view-in-github",
        "colab_type": "text"
      },
      "source": [
        "<a href=\"https://colab.research.google.com/github/habiba-1215/Machine-Learning-Training/blob/main/Copy_of_Exam2.ipynb\" target=\"_parent\"><img src=\"https://colab.research.google.com/assets/colab-badge.svg\" alt=\"Open In Colab\"/></a>"
      ]
    },
    {
      "cell_type": "markdown",
      "metadata": {
        "id": "5wXGR30b9re6"
      },
      "source": [
        "# Question 1\n",
        "Write a program that asks the user to enter the amount that he or she has budgeted for a month. A loop should then prompt the user to enter each of his or her expenses for the month and keep a running total. When the loop finishes, the program should display the amount that the user is over or under budget."
      ]
    },
    {
      "cell_type": "code",
      "metadata": {
        "colab": {
          "base_uri": "https://localhost:8080/"
        },
        "id": "YzFs0wb5N5Wr",
        "outputId": "05605ea8-a882-4231-8d95-7fd82aac0190"
      },
      "source": [
        "expense = 0\n",
        "total=0\n",
        "mess = input('if you wanna add another expense write y :')\n",
        "while mess == \"y\":\n",
        "  expense = int(input('add your exexpense here =>')) \n",
        "  mess = input('if you wanna add another expense write  y:')\n",
        "  total += expense\n",
        "print (f'total expenses = {total}') \n",
        "budget =int(input('enter your budget '))\n",
        "if budget>total:\n",
        "  print(' under budget.')\n",
        "elif   budget<total:\n",
        "  print(' over budget.')\n",
        "else :\n",
        "  print(' budget is equal to expenses.')\n"
      ],
      "execution_count": 8,
      "outputs": [
        {
          "output_type": "stream",
          "text": [
            "if you wanna add another expense write yes or yy\n",
            "add your exexpense here =>100\n",
            "if you wanna add another expense write yes or yy\n",
            "add your exexpense here =>200\n",
            "if you wanna add another expense write yes or yn\n",
            "total expenses = 300\n",
            "enter your budget 400\n",
            " under budget.\n"
          ],
          "name": "stdout"
        }
      ]
    },
    {
      "cell_type": "markdown",
      "metadata": {
        "id": "kGBuj9Rk-veL"
      },
      "source": [
        "# Question 2 \n",
        "Write a function named max that accepts two integer values as arguments and returns the\n",
        "value that is the greater of the two. For example, if 7 and 12 are passed as arguments to\n",
        "the function, the function should return 12. Use the function in a program that prompts the\n",
        "user to enter two integer values. The program should display the value that is the greater\n",
        "of the two."
      ]
    },
    {
      "cell_type": "code",
      "metadata": {
        "id": "3psMKiEQ-m6k",
        "colab": {
          "base_uri": "https://localhost:8080/"
        },
        "outputId": "f4182a70-e325-4da8-f254-fcfe0194b472"
      },
      "source": [
        "def max():\n",
        "  x = int(input(f'enter the first no .'))\n",
        "  y =int(input(f'enter the second no .'))\n",
        "  if x > y:\n",
        "    print (f\"the first no. greater than the second {x}>{y}\")\n",
        "  elif x < y:\n",
        "    print (f\"the  the second  no. greater than the first  {y}>{x}\")  \n",
        "  else :\n",
        "    print('the two numbers are equal')  \n",
        "max()    "
      ],
      "execution_count": 11,
      "outputs": [
        {
          "output_type": "stream",
          "text": [
            "enter the first no .20\n",
            "enter the second no .10\n",
            "the first no. greater than the second 20>10\n"
          ],
          "name": "stdout"
        }
      ]
    },
    {
      "cell_type": "markdown",
      "metadata": {
        "id": "2QJ4_LYe_QyM"
      },
      "source": [
        "# Question 3\n",
        "Write a program that asks the user for the name of a file. The program should display the\n",
        "contents of the file with each line preceded with a line number followed by a colon. The\n",
        "line numbering should start at 1."
      ]
    },
    {
      "cell_type": "code",
      "metadata": {
        "id": "z_9PEjmp_P7c"
      },
      "source": [
        "FileName = input('enter the name of the file : ')\n",
        "infile = open(f'{FileName}') \n",
        "file_contents = infile.read()\n",
        "infile.close()\n",
        "print(file_contents)\n",
        "main()"
      ],
      "execution_count": null,
      "outputs": []
    },
    {
      "cell_type": "markdown",
      "metadata": {
        "id": "mWPrmdWDAHJK"
      },
      "source": [
        "# Question 4\n",
        "Write a program that reads a string from the user containing a date in the form mm/dd/yyyy. It should print the date in the form March 12, 2014."
      ]
    },
    {
      "cell_type": "code",
      "metadata": {
        "colab": {
          "base_uri": "https://localhost:8080/"
        },
        "id": "_6lwxy_Azrsy",
        "outputId": "9ee3c375-2938-45d8-9933-33888953d1bd"
      },
      "source": [
        "import calendar\n",
        "mydate = input('Enter a date(mm/dd/yyyy): ')\n",
        "datelist = mydate.split('/')\n",
        "\n",
        "month = int(datelist[0])\n",
        "day = int(datelist[1])\n",
        "year = int(datelist[2])\n",
        "print(f'{ calendar.month_name[month] } {day}, {year}') \n",
        "\n"
      ],
      "execution_count": 33,
      "outputs": [
        {
          "output_type": "stream",
          "text": [
            "Enter a date(mm/dd/yyyy): 3/12/2014\n",
            "March 12, 2014\n"
          ],
          "name": "stdout"
        }
      ]
    },
    {
      "cell_type": "markdown",
      "metadata": {
        "id": "jSxraWwFqJ6b"
      },
      "source": [
        "# Question 5\n",
        "Write a class named Person with data attributes for a person’s name, address, and telephone number. Next, write a class named Customer that is a subclass of the Person class.\n",
        "The Customer class should have a data attribute for a customer number and a Boolean\n",
        "data attribute indicating whether the customer wishes to be on a mailing list. Demonstrate\n",
        "an instance of the Customer class in a simple program."
      ]
    },
    {
      "cell_type": "code",
      "metadata": {
        "id": "s5A4itpdA2K0"
      },
      "source": [
        "class person:\n",
        "  def __init__(self,name,address,teleNo):\n",
        "    self.name= name\n",
        "    self.address = ddress\n",
        "    self.teleNo = teleNo\n",
        "  \n",
        "  def set_name(self, name):\n",
        "        self.__name = name\n",
        "\n",
        "  def set_address(self, address):\n",
        "        self.__address = address\n",
        "\n",
        "  def set_teleNo(self,teleNo):\n",
        "        self.__teleNo = teleNo\n",
        "\n",
        "  def get_name(self):\n",
        "        return self.__name\n",
        "\n",
        "  def get_address(self):\n",
        "        return self.__address\n",
        "\n",
        "  def get_teleNo(self):\n",
        "        return self.__teleNo\n",
        "\n",
        "class Customer(person):\n",
        "    def __init__(self, name, address, teleNo, number ,mail):\n",
        "      super().__init__(self,name,address,teleNo)\n",
        "      self.__number = number\n",
        "\n",
        "    def set_mail(self, mail):\n",
        "        self.__mail = mail\n",
        "\n",
        "    def set_number(self, number):\n",
        "        self.__number = number\n",
        "\n",
        "    def get_mail(self):\n",
        "        return self.__mail\n",
        "\n",
        "    def get_number(self):\n",
        "        return self.__number\n",
        "\n",
        "    def mailList(self, mail):\n",
        "        if mailing == True:\n",
        "            return\"On the mailing list\"\n",
        "        else:\n",
        "            return\"Not on the mailing list\"         \n",
        "    def __tostring__(self):\n",
        "        return \"\\nName: {}\\nAddress: {}\\ntelephone: {}\\nEmail: \\\n",
        "        {}\\nMail: {}\\nNumber: {}\".\\\n",
        "                format(self.get_name(), self.get_address(),\\\n",
        "                       self.get_telephone(), self.get_email()\\\n",
        "                       , self.mailList(),self.get_number())\n",
        "        \n",
        "\n",
        "  "
      ],
      "execution_count": 30,
      "outputs": []
    },
    {
      "cell_type": "markdown",
      "metadata": {
        "id": "Psab1ArBA2Yp"
      },
      "source": [
        "Once You finish Fill the Form: https://docs.google.com/forms/d/e/1FAIpQLSeu1EmFSSURi7TYZ7LvNQREvDEeGue6enxF2j_wy2mNU-q2xw/viewform?usp=sf_link"
      ]
    }
  ]
}